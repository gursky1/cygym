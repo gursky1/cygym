{
 "cells": [
  {
   "cell_type": "code",
   "execution_count": 1,
   "metadata": {
    "scrolled": true
   },
   "outputs": [
    {
     "name": "stderr",
     "output_type": "stream",
     "text": [
      "/home/jacob/anaconda3/envs/cygym_test/lib/python3.7/site-packages/tensorflow/python/framework/dtypes.py:516: FutureWarning: Passing (type, 1) or '1type' as a synonym of type is deprecated; in a future version of numpy, it will be understood as (type, (1,)) / '(1,)type'.\n",
      "  _np_qint8 = np.dtype([(\"qint8\", np.int8, 1)])\n",
      "/home/jacob/anaconda3/envs/cygym_test/lib/python3.7/site-packages/tensorflow/python/framework/dtypes.py:517: FutureWarning: Passing (type, 1) or '1type' as a synonym of type is deprecated; in a future version of numpy, it will be understood as (type, (1,)) / '(1,)type'.\n",
      "  _np_quint8 = np.dtype([(\"quint8\", np.uint8, 1)])\n",
      "/home/jacob/anaconda3/envs/cygym_test/lib/python3.7/site-packages/tensorflow/python/framework/dtypes.py:518: FutureWarning: Passing (type, 1) or '1type' as a synonym of type is deprecated; in a future version of numpy, it will be understood as (type, (1,)) / '(1,)type'.\n",
      "  _np_qint16 = np.dtype([(\"qint16\", np.int16, 1)])\n",
      "/home/jacob/anaconda3/envs/cygym_test/lib/python3.7/site-packages/tensorflow/python/framework/dtypes.py:519: FutureWarning: Passing (type, 1) or '1type' as a synonym of type is deprecated; in a future version of numpy, it will be understood as (type, (1,)) / '(1,)type'.\n",
      "  _np_quint16 = np.dtype([(\"quint16\", np.uint16, 1)])\n",
      "/home/jacob/anaconda3/envs/cygym_test/lib/python3.7/site-packages/tensorflow/python/framework/dtypes.py:520: FutureWarning: Passing (type, 1) or '1type' as a synonym of type is deprecated; in a future version of numpy, it will be understood as (type, (1,)) / '(1,)type'.\n",
      "  _np_qint32 = np.dtype([(\"qint32\", np.int32, 1)])\n",
      "/home/jacob/anaconda3/envs/cygym_test/lib/python3.7/site-packages/tensorflow/python/framework/dtypes.py:525: FutureWarning: Passing (type, 1) or '1type' as a synonym of type is deprecated; in a future version of numpy, it will be understood as (type, (1,)) / '(1,)type'.\n",
      "  np_resource = np.dtype([(\"resource\", np.ubyte, 1)])\n",
      "/home/jacob/anaconda3/envs/cygym_test/lib/python3.7/site-packages/tensorboard/compat/tensorflow_stub/dtypes.py:541: FutureWarning: Passing (type, 1) or '1type' as a synonym of type is deprecated; in a future version of numpy, it will be understood as (type, (1,)) / '(1,)type'.\n",
      "  _np_qint8 = np.dtype([(\"qint8\", np.int8, 1)])\n",
      "/home/jacob/anaconda3/envs/cygym_test/lib/python3.7/site-packages/tensorboard/compat/tensorflow_stub/dtypes.py:542: FutureWarning: Passing (type, 1) or '1type' as a synonym of type is deprecated; in a future version of numpy, it will be understood as (type, (1,)) / '(1,)type'.\n",
      "  _np_quint8 = np.dtype([(\"quint8\", np.uint8, 1)])\n",
      "/home/jacob/anaconda3/envs/cygym_test/lib/python3.7/site-packages/tensorboard/compat/tensorflow_stub/dtypes.py:543: FutureWarning: Passing (type, 1) or '1type' as a synonym of type is deprecated; in a future version of numpy, it will be understood as (type, (1,)) / '(1,)type'.\n",
      "  _np_qint16 = np.dtype([(\"qint16\", np.int16, 1)])\n",
      "/home/jacob/anaconda3/envs/cygym_test/lib/python3.7/site-packages/tensorboard/compat/tensorflow_stub/dtypes.py:544: FutureWarning: Passing (type, 1) or '1type' as a synonym of type is deprecated; in a future version of numpy, it will be understood as (type, (1,)) / '(1,)type'.\n",
      "  _np_quint16 = np.dtype([(\"quint16\", np.uint16, 1)])\n",
      "/home/jacob/anaconda3/envs/cygym_test/lib/python3.7/site-packages/tensorboard/compat/tensorflow_stub/dtypes.py:545: FutureWarning: Passing (type, 1) or '1type' as a synonym of type is deprecated; in a future version of numpy, it will be understood as (type, (1,)) / '(1,)type'.\n",
      "  _np_qint32 = np.dtype([(\"qint32\", np.int32, 1)])\n",
      "/home/jacob/anaconda3/envs/cygym_test/lib/python3.7/site-packages/tensorboard/compat/tensorflow_stub/dtypes.py:550: FutureWarning: Passing (type, 1) or '1type' as a synonym of type is deprecated; in a future version of numpy, it will be understood as (type, (1,)) / '(1,)type'.\n",
      "  np_resource = np.dtype([(\"resource\", np.ubyte, 1)])\n"
     ]
    }
   ],
   "source": [
    "from time import time\n",
    "import gym\n",
    "from cygym import (CyCartPoleEnv,\n",
    "                   CyPendulumEnv,\n",
    "                   CyAcrobotEnv,\n",
    "                   CyMountainCarEnv,\n",
    "                   CyContinuous_MountainCarEnv)\n",
    "from stable_baselines.common.policies import MlpPolicy\n",
    "from stable_baselines import PPO2\n",
    "from stable_baselines.common import make_vec_env\n",
    "import os\n",
    "os.environ['TF_CPP_MIN_LOG_LEVEL'] = '3' \n",
    "import tensorflow as tf\n",
    "tf.logging.set_verbosity(tf.logging.ERROR)"
   ]
  },
  {
   "cell_type": "code",
   "execution_count": 2,
   "metadata": {},
   "outputs": [
    {
     "name": "stderr",
     "output_type": "stream",
     "text": [
      "/home/jacob/anaconda3/envs/cygym_test/lib/python3.7/site-packages/gym/logger.py:30: UserWarning: \u001b[33mWARN: Box bound precision lowered by casting to float32\u001b[0m\n",
      "  warnings.warn(colorize('%s: %s'%('WARN', msg % args), 'yellow'))\n"
     ]
    },
    {
     "name": "stdout",
     "output_type": "stream",
     "text": [
      "2.58 µs ± 57 ns per loop (mean ± std. dev. of 7 runs, 100000 loops each)\n",
      "4.16 µs ± 119 ns per loop (mean ± std. dev. of 7 runs, 100000 loops each)\n"
     ]
    },
    {
     "name": "stderr",
     "output_type": "stream",
     "text": [
      "/home/jacob/anaconda3/envs/cygym_test/lib/python3.7/site-packages/gym/logger.py:30: UserWarning: \u001b[33mWARN: You are calling 'step()' even though this environment has already returned done = True. You should always call 'reset()' once you receive 'done = True' -- any further steps are undefined behavior.\u001b[0m\n",
      "  warnings.warn(colorize('%s: %s'%('WARN', msg % args), 'yellow'))\n"
     ]
    },
    {
     "name": "stdout",
     "output_type": "stream",
     "text": [
      "11.5 µs ± 550 ns per loop (mean ± std. dev. of 7 runs, 100000 loops each)\n",
      "9.11 µs ± 72.3 ns per loop (mean ± std. dev. of 7 runs, 100000 loops each)\n",
      "WARNING: Entity <bound method Flatten.call of <tensorflow.python.layers.core.Flatten object at 0x7f1152c4e470>> could not be transformed and will be executed as-is. Please report this to the AutgoGraph team. When filing the bug, set the verbosity to 10 (on Linux, `export AUTOGRAPH_VERBOSITY=10`) and attach the full output. Cause: converting <bound method Flatten.call of <tensorflow.python.layers.core.Flatten object at 0x7f1152c4e470>>: AttributeError: module 'gast' has no attribute 'Num'\n",
      "WARNING: Entity <bound method Flatten.call of <tensorflow.python.layers.core.Flatten object at 0x7f1152c4ee48>> could not be transformed and will be executed as-is. Please report this to the AutgoGraph team. When filing the bug, set the verbosity to 10 (on Linux, `export AUTOGRAPH_VERBOSITY=10`) and attach the full output. Cause: converting <bound method Flatten.call of <tensorflow.python.layers.core.Flatten object at 0x7f1152c4ee48>>: AttributeError: module 'gast' has no attribute 'Num'\n",
      "11.210737466812134\n",
      "WARNING: Entity <bound method Flatten.call of <tensorflow.python.layers.core.Flatten object at 0x7f1140455fd0>> could not be transformed and will be executed as-is. Please report this to the AutgoGraph team. When filing the bug, set the verbosity to 10 (on Linux, `export AUTOGRAPH_VERBOSITY=10`) and attach the full output. Cause: converting <bound method Flatten.call of <tensorflow.python.layers.core.Flatten object at 0x7f1140455fd0>>: AttributeError: module 'gast' has no attribute 'Num'\n",
      "WARNING: Entity <bound method Flatten.call of <tensorflow.python.layers.core.Flatten object at 0x7f111c0cc518>> could not be transformed and will be executed as-is. Please report this to the AutgoGraph team. When filing the bug, set the verbosity to 10 (on Linux, `export AUTOGRAPH_VERBOSITY=10`) and attach the full output. Cause: converting <bound method Flatten.call of <tensorflow.python.layers.core.Flatten object at 0x7f111c0cc518>>: AttributeError: module 'gast' has no attribute 'Num'\n"
     ]
    },
    {
     "name": "stderr",
     "output_type": "stream",
     "text": [
      "/home/jacob/anaconda3/envs/cygym_test/lib/python3.7/site-packages/gym/logger.py:30: UserWarning: \u001b[33mWARN: Box bound precision lowered by casting to float32\u001b[0m\n",
      "  warnings.warn(colorize('%s: %s'%('WARN', msg % args), 'yellow'))\n"
     ]
    },
    {
     "name": "stdout",
     "output_type": "stream",
     "text": [
      "10.20824933052063\n"
     ]
    }
   ],
   "source": [
    "env1 = gym.make('CartPole-v0').env\n",
    "env2 = CyCartPoleEnv()\n",
    "%timeit env1.reset()\n",
    "%timeit env2.reset()\n",
    "%timeit env1.step(env1.action_space.sample())\n",
    "%timeit env2.step(env2.action_space.sample())\n",
    "\n",
    "env = make_vec_env('CartPole-v0', n_envs=6)\n",
    "model = PPO2(MlpPolicy, env, verbose=0)\n",
    "start_time = time()\n",
    "model.learn(total_timesteps=100000)\n",
    "print(time() - start_time)\n",
    "\n",
    "env = make_vec_env(CyCartPoleEnv, n_envs=6)\n",
    "model = PPO2(MlpPolicy, env, verbose=0)\n",
    "start_time = time()\n",
    "model.learn(total_timesteps=100000)\n",
    "print(time() - start_time)"
   ]
  },
  {
   "cell_type": "code",
   "execution_count": 3,
   "metadata": {},
   "outputs": [
    {
     "name": "stderr",
     "output_type": "stream",
     "text": [
      "/home/jacob/anaconda3/envs/cygym_test/lib/python3.7/site-packages/gym/logger.py:30: UserWarning: \u001b[33mWARN: Box bound precision lowered by casting to float32\u001b[0m\n",
      "  warnings.warn(colorize('%s: %s'%('WARN', msg % args), 'yellow'))\n"
     ]
    },
    {
     "name": "stdout",
     "output_type": "stream",
     "text": [
      "17.2 µs ± 156 ns per loop (mean ± std. dev. of 7 runs, 10000 loops each)\n",
      "13.3 µs ± 277 ns per loop (mean ± std. dev. of 7 runs, 100000 loops each)\n",
      "95 µs ± 2.08 µs per loop (mean ± std. dev. of 7 runs, 10000 loops each)\n",
      "36 µs ± 1 µs per loop (mean ± std. dev. of 7 runs, 10000 loops each)\n",
      "WARNING: Entity <bound method Flatten.call of <tensorflow.python.layers.core.Flatten object at 0x7f10dc7a2a90>> could not be transformed and will be executed as-is. Please report this to the AutgoGraph team. When filing the bug, set the verbosity to 10 (on Linux, `export AUTOGRAPH_VERBOSITY=10`) and attach the full output. Cause: converting <bound method Flatten.call of <tensorflow.python.layers.core.Flatten object at 0x7f10dc7a2a90>>: AttributeError: module 'gast' has no attribute 'Num'\n",
      "WARNING: Entity <bound method Flatten.call of <tensorflow.python.layers.core.Flatten object at 0x7f10dc689f28>> could not be transformed and will be executed as-is. Please report this to the AutgoGraph team. When filing the bug, set the verbosity to 10 (on Linux, `export AUTOGRAPH_VERBOSITY=10`) and attach the full output. Cause: converting <bound method Flatten.call of <tensorflow.python.layers.core.Flatten object at 0x7f10dc689f28>>: AttributeError: module 'gast' has no attribute 'Num'\n",
      "25.054582834243774\n",
      "WARNING: Entity <bound method Flatten.call of <tensorflow.python.layers.core.Flatten object at 0x7f109c7b5518>> could not be transformed and will be executed as-is. Please report this to the AutgoGraph team. When filing the bug, set the verbosity to 10 (on Linux, `export AUTOGRAPH_VERBOSITY=10`) and attach the full output. Cause: converting <bound method Flatten.call of <tensorflow.python.layers.core.Flatten object at 0x7f109c7b5518>>: AttributeError: module 'gast' has no attribute 'Num'\n",
      "WARNING: Entity <bound method Flatten.call of <tensorflow.python.layers.core.Flatten object at 0x7f109c6bf240>> could not be transformed and will be executed as-is. Please report this to the AutgoGraph team. When filing the bug, set the verbosity to 10 (on Linux, `export AUTOGRAPH_VERBOSITY=10`) and attach the full output. Cause: converting <bound method Flatten.call of <tensorflow.python.layers.core.Flatten object at 0x7f109c6bf240>>: AttributeError: module 'gast' has no attribute 'Num'\n",
      "17.326273202896118\n"
     ]
    }
   ],
   "source": [
    "env1 = gym.make('Pendulum-v0').env\n",
    "env2 = CyPendulumEnv()\n",
    "%timeit env1.reset()\n",
    "%timeit env2.reset()\n",
    "%timeit env1.step(env1.action_space.sample())\n",
    "%timeit env2.step(env2.action_space.sample())\n",
    "\n",
    "env = make_vec_env('Pendulum-v0', n_envs=6)\n",
    "model = PPO2(MlpPolicy, env, verbose=0)\n",
    "start_time = time()\n",
    "model.learn(total_timesteps=100000)\n",
    "print(time() - start_time)\n",
    "\n",
    "env = make_vec_env(CyPendulumEnv, n_envs=6)\n",
    "model = PPO2(MlpPolicy, env, verbose=0)\n",
    "start_time = time()\n",
    "model.learn(total_timesteps=100000)\n",
    "print(time() - start_time)"
   ]
  },
  {
   "cell_type": "code",
   "execution_count": null,
   "metadata": {},
   "outputs": [],
   "source": [
    "env1 = gym.make('Acrobot-v1').env\n",
    "env2 = CyAcrobotEnv()\n",
    "%timeit env1.reset()\n",
    "%timeit env2.reset()\n",
    "%timeit env1.step(env1.action_space.sample())\n",
    "%timeit env2.step(env2.action_space.sample())\n",
    "\n",
    "env = make_vec_env('Acrobot-v1', n_envs=6)\n",
    "model = PPO2(MlpPolicy, env, verbose=0)\n",
    "start_time = time()\n",
    "model.learn(total_timesteps=100000)\n",
    "print(time() - start_time)\n",
    "\n",
    "env = make_vec_env(CyAcrobotEnv, n_envs=6)\n",
    "model = PPO2(MlpPolicy, env, verbose=0)\n",
    "start_time = time()\n",
    "model.learn(total_timesteps=100000)\n",
    "print(time() - start_time)"
   ]
  },
  {
   "cell_type": "code",
   "execution_count": null,
   "metadata": {},
   "outputs": [],
   "source": [
    "env1 = gym.make('MountainCar-v0').env\n",
    "env2 = CyMountainCarEnv()\n",
    "%timeit env1.reset()\n",
    "%timeit env2.reset()\n",
    "%timeit env1.step(env1.action_space.sample())\n",
    "%timeit env2.step(env2.action_space.sample())\n",
    "\n",
    "env = make_vec_env('MountainCar-v0', n_envs=6)\n",
    "model = PPO2(MlpPolicy, env, verbose=0)\n",
    "start_time = time()\n",
    "model.learn(total_timesteps=100000)\n",
    "print(time() - start_time)\n",
    "\n",
    "env = make_vec_env(CyMountainCarEnv, n_envs=6)\n",
    "model = PPO2(MlpPolicy, env, verbose=0)\n",
    "start_time = time()\n",
    "model.learn(total_timesteps=100000)\n",
    "print(time() - start_time)"
   ]
  },
  {
   "cell_type": "code",
   "execution_count": null,
   "metadata": {},
   "outputs": [],
   "source": [
    "env1 = gym.make('MountainCarContinuous-v0').env\n",
    "env2 = CyContinuous_MountainCarEnv()\n",
    "%timeit env1.reset()\n",
    "%timeit env2.reset()\n",
    "%timeit env1.step(env1.action_space.sample())\n",
    "%timeit env2.step(env2.action_space.sample())\n",
    "\n",
    "env = make_vec_env('MountainCarContinuous-v0', n_envs=6)\n",
    "model = PPO2(MlpPolicy, env, verbose=0)\n",
    "start_time = time()\n",
    "model.learn(total_timesteps=100000)\n",
    "print(time() - start_time)\n",
    "\n",
    "env = make_vec_env(CyContinuous_MountainCarEnv, n_envs=6)\n",
    "model = PPO2(MlpPolicy, env, verbose=0)\n",
    "start_time = time()\n",
    "model.learn(total_timesteps=100000)\n",
    "print(time() - start_time)"
   ]
  }
 ],
 "metadata": {
  "kernelspec": {
   "display_name": "Python 3",
   "language": "python",
   "name": "python3"
  },
  "language_info": {
   "codemirror_mode": {
    "name": "ipython",
    "version": 3
   },
   "file_extension": ".py",
   "mimetype": "text/x-python",
   "name": "python",
   "nbconvert_exporter": "python",
   "pygments_lexer": "ipython3",
   "version": "3.7.0"
  }
 },
 "nbformat": 4,
 "nbformat_minor": 4
}
